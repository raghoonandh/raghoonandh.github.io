{
 "cells": [
  {
   "cell_type": "code",
   "execution_count": 40,
   "metadata": {
    "collapsed": true
   },
   "outputs": [],
   "source": [
    "import pandas as pd\n",
    "import numpy as np\n",
    "from collections import Counter\n",
    "from itertools import groupby"
   ]
  },
  {
   "cell_type": "code",
   "execution_count": 2,
   "metadata": {
    "collapsed": true
   },
   "outputs": [],
   "source": [
    "df = pd.read_csv('iplfix.csv')"
   ]
  },
  {
   "cell_type": "code",
   "execution_count": 3,
   "metadata": {
    "collapsed": false
   },
   "outputs": [
    {
     "data": {
      "text/html": [
       "<div>\n",
       "<table border=\"1\" class=\"dataframe\">\n",
       "  <thead>\n",
       "    <tr style=\"text-align: right;\">\n",
       "      <th></th>\n",
       "      <th>date</th>\n",
       "      <th>time</th>\n",
       "      <th>match</th>\n",
       "      <th>ground</th>\n",
       "      <th>home</th>\n",
       "      <th>away</th>\n",
       "      <th>hometeam</th>\n",
       "      <th>awayteam</th>\n",
       "    </tr>\n",
       "  </thead>\n",
       "  <tbody>\n",
       "    <tr>\n",
       "      <th>0</th>\n",
       "      <td>05-Apr-17</td>\n",
       "      <td>8:00 PM</td>\n",
       "      <td>Sunrisers Hyderabad v Royal Challengers Bangalore</td>\n",
       "      <td>Hyderabad</td>\n",
       "      <td>Sunrisers Hyderabad</td>\n",
       "      <td>Royal Challengers Bangalore</td>\n",
       "      <td>hyderabad</td>\n",
       "      <td>bangalore</td>\n",
       "    </tr>\n",
       "    <tr>\n",
       "      <th>1</th>\n",
       "      <td>06-Apr-17</td>\n",
       "      <td>8:00 PM</td>\n",
       "      <td>Rising Pune Supergiants v Mumbai Indians</td>\n",
       "      <td>Pune</td>\n",
       "      <td>Rising Pune Supergiants</td>\n",
       "      <td>Mumbai Indians</td>\n",
       "      <td>pune</td>\n",
       "      <td>mumbai</td>\n",
       "    </tr>\n",
       "    <tr>\n",
       "      <th>2</th>\n",
       "      <td>07-Apr-17</td>\n",
       "      <td>8:00 PM</td>\n",
       "      <td>Gujarat Lions v Kolkata Knight Riders</td>\n",
       "      <td>Rajkot</td>\n",
       "      <td>Gujarat Lions</td>\n",
       "      <td>Kolkata Knight Riders</td>\n",
       "      <td>gujarat</td>\n",
       "      <td>kolkata</td>\n",
       "    </tr>\n",
       "    <tr>\n",
       "      <th>3</th>\n",
       "      <td>08-Apr-17</td>\n",
       "      <td>4:00 PM</td>\n",
       "      <td>Kings XI Punjab v Rising Pune Supergiants</td>\n",
       "      <td>Indore</td>\n",
       "      <td>Kings XI Punjab</td>\n",
       "      <td>Rising Pune Supergiants</td>\n",
       "      <td>punjab</td>\n",
       "      <td>pune</td>\n",
       "    </tr>\n",
       "    <tr>\n",
       "      <th>4</th>\n",
       "      <td>08-Apr-17</td>\n",
       "      <td>8:00 PM</td>\n",
       "      <td>Royal Challengers Bangalore v Delhi Daredevils</td>\n",
       "      <td>Bengaluru</td>\n",
       "      <td>Royal Challengers Bangalore</td>\n",
       "      <td>Delhi Daredevils</td>\n",
       "      <td>bangalore</td>\n",
       "      <td>delhi</td>\n",
       "    </tr>\n",
       "  </tbody>\n",
       "</table>\n",
       "</div>"
      ],
      "text/plain": [
       "        date     time                                              match  \\\n",
       "0  05-Apr-17  8:00 PM  Sunrisers Hyderabad v Royal Challengers Bangalore   \n",
       "1  06-Apr-17  8:00 PM           Rising Pune Supergiants v Mumbai Indians   \n",
       "2  07-Apr-17  8:00 PM              Gujarat Lions v Kolkata Knight Riders   \n",
       "3  08-Apr-17  4:00 PM          Kings XI Punjab v Rising Pune Supergiants   \n",
       "4  08-Apr-17  8:00 PM     Royal Challengers Bangalore v Delhi Daredevils   \n",
       "\n",
       "      ground                         home                         away  \\\n",
       "0  Hyderabad          Sunrisers Hyderabad  Royal Challengers Bangalore   \n",
       "1       Pune      Rising Pune Supergiants               Mumbai Indians   \n",
       "2     Rajkot                Gujarat Lions        Kolkata Knight Riders   \n",
       "3     Indore              Kings XI Punjab      Rising Pune Supergiants   \n",
       "4  Bengaluru  Royal Challengers Bangalore             Delhi Daredevils   \n",
       "\n",
       "    hometeam   awayteam  \n",
       "0  hyderabad  bangalore  \n",
       "1       pune     mumbai  \n",
       "2    gujarat    kolkata  \n",
       "3     punjab       pune  \n",
       "4  bangalore      delhi  "
      ]
     },
     "execution_count": 3,
     "metadata": {},
     "output_type": "execute_result"
    }
   ],
   "source": [
    "df.head()"
   ]
  },
  {
   "cell_type": "code",
   "execution_count": 30,
   "metadata": {
    "collapsed": true
   },
   "outputs": [],
   "source": [
    "home = list(df['hometeam'])\n",
    "away = list(df['awayteam'])\n",
    "homeaway = []\n",
    "for i in range(len(home)):\n",
    "    homeaway.append(home[i])\n",
    "    homeaway.append(away[i])\n"
   ]
  },
  {
   "cell_type": "code",
   "execution_count": 5,
   "metadata": {
    "collapsed": false
   },
   "outputs": [
    {
     "data": {
      "text/plain": [
       "112"
      ]
     },
     "execution_count": 5,
     "metadata": {},
     "output_type": "execute_result"
    }
   ],
   "source": [
    "len(homeaway)"
   ]
  },
  {
   "cell_type": "code",
   "execution_count": 96,
   "metadata": {
    "collapsed": false
   },
   "outputs": [],
   "source": [
    "matches = 5\n",
    "ratio = []\n",
    "mostocc = []\n",
    "meanocc = []\n",
    "for i in range(len(homeaway)):\n",
    "    try:\n",
    "        matchlist = homeaway[i:(i+(matches*2))]\n",
    "        meanoccval = np.mean(Counter(matchlist).values())\n",
    "        meanocc.append(meanoccval)\n",
    "        mostcommon = Counter(matchlist).most_common(1)[0][0]\n",
    "        maxoccurance = matchlist.count(mostcommon)\n",
    "        mostocc.append(maxoccurance)\n",
    "        setratio = float(len(set(matchlist)))/(matches*2)\n",
    "        ratio.append(setratio)\n",
    "    except:\n",
    "        pass\n",
    "    "
   ]
  },
  {
   "cell_type": "code",
   "execution_count": 97,
   "metadata": {
    "collapsed": false
   },
   "outputs": [
    {
     "name": "stdout",
     "output_type": "stream",
     "text": [
      "mean ratio 0.7\n",
      "max matches 2.0\n",
      "mean matches 1.25\n"
     ]
    }
   ],
   "source": [
    "print 'mean ratio', np.median(ratio)\n",
    "print 'max matches', np.median(mostocc)\n",
    "print 'mean matches', np.median(meanocc)\n"
   ]
  },
  {
   "cell_type": "code",
   "execution_count": 70,
   "metadata": {
    "collapsed": false
   },
   "outputs": [
    {
     "data": {
      "text/plain": [
       "1.25"
      ]
     },
     "execution_count": 70,
     "metadata": {},
     "output_type": "execute_result"
    }
   ],
   "source": [
    "np.mean(Counter(homeaway[0:10]).values())"
   ]
  },
  {
   "cell_type": "code",
   "execution_count": 42,
   "metadata": {
    "collapsed": true
   },
   "outputs": [],
   "source": [
    "def occurrence(a):\n",
    "    occurrence, num_times = 0, 0\n",
    "    for key, values in groupby(a, lambda x : x):\n",
    "        val = len(list(values))\n",
    "        if val >= occurrence:\n",
    "            occurrence, num_times =  key, val\n",
    "    return occurrence, num_times"
   ]
  },
  {
   "cell_type": "code",
   "execution_count": 44,
   "metadata": {
    "collapsed": true
   },
   "outputs": [],
   "source": [
    "test = [1,2,1,3,1,4]"
   ]
  },
  {
   "cell_type": "code",
   "execution_count": 45,
   "metadata": {
    "collapsed": false
   },
   "outputs": [
    {
     "data": {
      "text/plain": [
       "(2, 1)"
      ]
     },
     "execution_count": 45,
     "metadata": {},
     "output_type": "execute_result"
    }
   ],
   "source": [
    "occurrence(test)"
   ]
  },
  {
   "cell_type": "code",
   "execution_count": null,
   "metadata": {
    "collapsed": true
   },
   "outputs": [],
   "source": []
  }
 ],
 "metadata": {
  "kernelspec": {
   "display_name": "Python 2",
   "language": "python",
   "name": "python2"
  },
  "language_info": {
   "codemirror_mode": {
    "name": "ipython",
    "version": 2
   },
   "file_extension": ".py",
   "mimetype": "text/x-python",
   "name": "python",
   "nbconvert_exporter": "python",
   "pygments_lexer": "ipython2",
   "version": "2.7.11"
  }
 },
 "nbformat": 4,
 "nbformat_minor": 0
}
