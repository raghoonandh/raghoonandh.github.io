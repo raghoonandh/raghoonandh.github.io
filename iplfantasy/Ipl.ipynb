{
 "cells": [
  {
   "cell_type": "code",
   "execution_count": 1,
   "metadata": {
    "collapsed": true
   },
   "outputs": [],
   "source": [
    "import pandas as pd"
   ]
  },
  {
   "cell_type": "code",
   "execution_count": 40,
   "metadata": {
    "collapsed": true
   },
   "outputs": [],
   "source": [
    "df = pd.read_csv('ipl.csv')"
   ]
  },
  {
   "cell_type": "code",
   "execution_count": 41,
   "metadata": {
    "collapsed": false
   },
   "outputs": [
    {
     "data": {
      "text/html": [
       "<div>\n",
       "<table border=\"1\" class=\"dataframe\">\n",
       "  <thead>\n",
       "    <tr style=\"text-align: right;\">\n",
       "      <th></th>\n",
       "      <th>date</th>\n",
       "      <th>time</th>\n",
       "      <th>match</th>\n",
       "      <th>ground</th>\n",
       "    </tr>\n",
       "  </thead>\n",
       "  <tbody>\n",
       "    <tr>\n",
       "      <th>0</th>\n",
       "      <td>05-Apr-17</td>\n",
       "      <td>8:00 PM</td>\n",
       "      <td>Sunrisers Hyderabad v Royal Challengers Bangalore</td>\n",
       "      <td>Hyderabad</td>\n",
       "    </tr>\n",
       "    <tr>\n",
       "      <th>1</th>\n",
       "      <td>06-Apr-17</td>\n",
       "      <td>8:00 PM</td>\n",
       "      <td>Rising Pune Supergiants v Mumbai Indians</td>\n",
       "      <td>Pune</td>\n",
       "    </tr>\n",
       "    <tr>\n",
       "      <th>2</th>\n",
       "      <td>07-Apr-17</td>\n",
       "      <td>8:00 PM</td>\n",
       "      <td>Gujarat Lions v Kolkata Knight Riders</td>\n",
       "      <td>Rajkot</td>\n",
       "    </tr>\n",
       "    <tr>\n",
       "      <th>3</th>\n",
       "      <td>08-Apr-17</td>\n",
       "      <td>4:00 PM</td>\n",
       "      <td>Kings XI Punjab v Rising Pune Supergiants</td>\n",
       "      <td>Indore</td>\n",
       "    </tr>\n",
       "    <tr>\n",
       "      <th>4</th>\n",
       "      <td>08-Apr-17</td>\n",
       "      <td>8:00 PM</td>\n",
       "      <td>Royal Challengers Bangalore v Delhi Daredevils</td>\n",
       "      <td>Bengaluru</td>\n",
       "    </tr>\n",
       "  </tbody>\n",
       "</table>\n",
       "</div>"
      ],
      "text/plain": [
       "        date     time                                              match  \\\n",
       "0  05-Apr-17  8:00 PM  Sunrisers Hyderabad v Royal Challengers Bangalore   \n",
       "1  06-Apr-17  8:00 PM           Rising Pune Supergiants v Mumbai Indians   \n",
       "2  07-Apr-17  8:00 PM              Gujarat Lions v Kolkata Knight Riders   \n",
       "3  08-Apr-17  4:00 PM          Kings XI Punjab v Rising Pune Supergiants   \n",
       "4  08-Apr-17  8:00 PM     Royal Challengers Bangalore v Delhi Daredevils   \n",
       "\n",
       "      ground  \n",
       "0  Hyderabad  \n",
       "1       Pune  \n",
       "2     Rajkot  \n",
       "3     Indore  \n",
       "4  Bengaluru  "
      ]
     },
     "execution_count": 41,
     "metadata": {},
     "output_type": "execute_result"
    }
   ],
   "source": [
    "df.head()"
   ]
  },
  {
   "cell_type": "code",
   "execution_count": 42,
   "metadata": {
    "collapsed": false
   },
   "outputs": [],
   "source": [
    "def homeaway(match, home=True):\n",
    "    homeaway = match.split(' v ')\n",
    "    print homeaway\n",
    "    if home:\n",
    "        return homeaway[0]\n",
    "    return homeaway[1]\n",
    "\n",
    "def getteams(teamname):\n",
    "    teamname = teamname.lower().strip()\n",
    "    teamlist = teamname.split()\n",
    "    for item in teamlist:\n",
    "        if item in teams:\n",
    "            return item\n",
    "    return ''"
   ]
  },
  {
   "cell_type": "code",
   "execution_count": 43,
   "metadata": {
    "collapsed": false
   },
   "outputs": [],
   "source": [
    "# Standardization\n",
    "df['match'] = df['match'].apply(lambda x: x.replace('Gujrat', 'Gujarat')) \n",
    "df['match'] = df['match'].apply(lambda x: x.replace('vs', 'v')) \n",
    "df['match'] = df['match'].apply(lambda x: x.replace('Vs', 'v')) "
   ]
  },
  {
   "cell_type": "code",
   "execution_count": 44,
   "metadata": {
    "collapsed": false
   },
   "outputs": [],
   "source": [
    "teams = [ 'pune', 'delhi', 'mumbai', 'hyderabad', 'punjab', 'gujarat', 'kolkata', 'bangalore']"
   ]
  },
  {
   "cell_type": "code",
   "execution_count": 45,
   "metadata": {
    "collapsed": false
   },
   "outputs": [
    {
     "name": "stdout",
     "output_type": "stream",
     "text": [
      "['Sunrisers Hyderabad', 'Royal Challengers Bangalore']\n",
      "['Rising Pune Supergiants', 'Mumbai Indians']\n",
      "['Gujarat Lions', 'Kolkata Knight Riders']\n",
      "['Kings XI Punjab', 'Rising Pune Supergiants']\n",
      "['Royal Challengers Bangalore', 'Delhi Daredevils']\n",
      "['Sunrisers Hyderabad', 'Gujarat Lions']\n",
      "['Mumbai Indians', 'Kolkata Knight Riders']\n",
      "['Kings XI Punjab', 'Royal Challengers Bangalore']\n",
      "['Rising Pune Supergiants', 'Delhi Daredevils']\n",
      "['Mumbai Indian', 'Sunrisers Hyderabad']\n",
      "['Kolkata Knight Riders', 'Kings XI Punjab']\n",
      "['Royal Challengers Bangalore', 'Mumbai Indians']\n",
      "['Gujarat Lions', 'Rising Pune Supergiants']\n",
      "['Kolkata Knight Riders', 'Sunrisers Hyderabad']\n",
      "['Delhi Daredevils', 'Kings XI Punjab']\n",
      "['Mumbai Indians', 'Gujarat Lions']\n",
      "['Royal Challengers Bangalore', 'Rising Pune Supergiants']\n",
      "['Delhi Daredevils', 'Kolkata Knight Riders']\n",
      "['Sunrisers Hyderabad', 'Kings XI Punjab']\n",
      "['Gujarat Lions', 'Royal Challengers Bangalore']\n",
      "['Sunrisers Hyderabad', 'Delhi Daredevils']\n",
      "['Kings XI Punjab', 'Mumbai Indians']\n",
      "['Kolkata Knight Riders', 'Gujarat Lions']\n",
      "['Delhi Daredevils', 'Mumbai Indians']\n",
      "['Rising Pune', 'Sunrisers Hyderabad']\n",
      "['Gujarat Lions', 'Kings XI Punjab']\n",
      "['Kolkata Knight Riders', 'Royal Challengers Bangalore']\n",
      "['Mumbai Indians', 'Rising Pune Supergiants']\n",
      "['Royal Challengers Bangalore', 'Sunrisers Hyderabad']\n",
      "['Rising Pune Supergiants', 'Kolkata Knight Riders']\n",
      "['Royal Challengers Bangalore', 'Gujarat Lions']\n",
      "['Kolkata Knight Riders', 'Delhi Daredevils']\n",
      "['Kings XI Punjab', 'Sunrisers Hyderabad']\n",
      "['Rising Pune Supergiants', 'Royal Challengers Bangalore']\n",
      "['Gujarat Lions', 'Mumbai Indians']\n",
      "['Kings XI Punjab', 'Delhi Daredevils']\n",
      "['Sunrisers Hyderabad', 'Kolkata Knight Riders']\n",
      "['Mumbai Indians', 'Royal Challengers Bangalore']\n",
      "['Rising Pune Supergiants', 'Gujarat Lions']\n",
      "['Delhi Daredevils', 'Sunrisers Hyderabad']\n",
      "['Kolkata Knight Riders', 'Rising Pune Supergiants']\n",
      "['Delhi Daredevils', 'Gujarat Lions']\n",
      "['Royal Challengers Bangalore', 'Kings XI Punjab']\n",
      "['Sunrisers Hyderabad', 'Rising Pune Supergiants']\n",
      "['Mumbai Indians', 'Delhi Daredevils']\n",
      "['Royal Challengers Bangalore', 'Kolkata Knight Riders']\n",
      "['Kings XI Punjab', 'Gujarat Lions']\n",
      "['Sunrisers Hyderabad', 'Mumbai Indians']\n",
      "['Kings XI Punjab', 'Kolkata Knight riders']\n",
      "['Gujarat Lions', 'Delhi Daredevils']\n",
      "['Mumbai Indians', 'Kings XI Punjab']\n",
      "['Delhi Daredevils', 'Rising Pune Supergiants']\n",
      "['Gujarat Lions', 'Sunrisers Hyderabad']\n",
      "['Kolkata Knight Riders', 'Mumbai Indians']\n",
      "['Rising Pune Supergiants', 'Kings XI Punjab']\n",
      "['Delhi Daredevils', 'Royal Challengers Bangalore']\n",
      "['Sunrisers Hyderabad', 'Royal Challengers Bangalore']\n",
      "['Rising Pune Supergiants', 'Mumbai Indians']\n",
      "['Gujarat Lions', 'Kolkata Knight Riders']\n",
      "['Kings XI Punjab', 'Rising Pune Supergiants']\n",
      "['Royal Challengers Bangalore', 'Delhi Daredevils']\n",
      "['Sunrisers Hyderabad', 'Gujarat Lions']\n",
      "['Mumbai Indians', 'Kolkata Knight Riders']\n",
      "['Kings XI Punjab', 'Royal Challengers Bangalore']\n",
      "['Rising Pune Supergiants', 'Delhi Daredevils']\n",
      "['Mumbai Indian', 'Sunrisers Hyderabad']\n",
      "['Kolkata Knight Riders', 'Kings XI Punjab']\n",
      "['Royal Challengers Bangalore', 'Mumbai Indians']\n",
      "['Gujarat Lions', 'Rising Pune Supergiants']\n",
      "['Kolkata Knight Riders', 'Sunrisers Hyderabad']\n",
      "['Delhi Daredevils', 'Kings XI Punjab']\n",
      "['Mumbai Indians', 'Gujarat Lions']\n",
      "['Royal Challengers Bangalore', 'Rising Pune Supergiants']\n",
      "['Delhi Daredevils', 'Kolkata Knight Riders']\n",
      "['Sunrisers Hyderabad', 'Kings XI Punjab']\n",
      "['Gujarat Lions', 'Royal Challengers Bangalore']\n",
      "['Sunrisers Hyderabad', 'Delhi Daredevils']\n",
      "['Kings XI Punjab', 'Mumbai Indians']\n",
      "['Kolkata Knight Riders', 'Gujarat Lions']\n",
      "['Delhi Daredevils', 'Mumbai Indians']\n",
      "['Rising Pune', 'Sunrisers Hyderabad']\n",
      "['Gujarat Lions', 'Kings XI Punjab']\n",
      "['Kolkata Knight Riders', 'Royal Challengers Bangalore']\n",
      "['Mumbai Indians', 'Rising Pune Supergiants']\n",
      "['Royal Challengers Bangalore', 'Sunrisers Hyderabad']\n",
      "['Rising Pune Supergiants', 'Kolkata Knight Riders']\n",
      "['Royal Challengers Bangalore', 'Gujarat Lions']\n",
      "['Kolkata Knight Riders', 'Delhi Daredevils']\n",
      "['Kings XI Punjab', 'Sunrisers Hyderabad']\n",
      "['Rising Pune Supergiants', 'Royal Challengers Bangalore']\n",
      "['Gujarat Lions', 'Mumbai Indians']\n",
      "['Kings XI Punjab', 'Delhi Daredevils']\n",
      "['Sunrisers Hyderabad', 'Kolkata Knight Riders']\n",
      "['Mumbai Indians', 'Royal Challengers Bangalore']\n",
      "['Rising Pune Supergiants', 'Gujarat Lions']\n",
      "['Delhi Daredevils', 'Sunrisers Hyderabad']\n",
      "['Kolkata Knight Riders', 'Rising Pune Supergiants']\n",
      "['Delhi Daredevils', 'Gujarat Lions']\n",
      "['Royal Challengers Bangalore', 'Kings XI Punjab']\n",
      "['Sunrisers Hyderabad', 'Rising Pune Supergiants']\n",
      "['Mumbai Indians', 'Delhi Daredevils']\n",
      "['Royal Challengers Bangalore', 'Kolkata Knight Riders']\n",
      "['Kings XI Punjab', 'Gujarat Lions']\n",
      "['Sunrisers Hyderabad', 'Mumbai Indians']\n",
      "['Kings XI Punjab', 'Kolkata Knight riders']\n",
      "['Gujarat Lions', 'Delhi Daredevils']\n",
      "['Mumbai Indians', 'Kings XI Punjab']\n",
      "['Delhi Daredevils', 'Rising Pune Supergiants']\n",
      "['Gujarat Lions', 'Sunrisers Hyderabad']\n",
      "['Kolkata Knight Riders', 'Mumbai Indians']\n",
      "['Rising Pune Supergiants', 'Kings XI Punjab']\n",
      "['Delhi Daredevils', 'Royal Challengers Bangalore']\n"
     ]
    }
   ],
   "source": [
    "df['home'] = map(homeaway, df['match'])\n",
    "df['away'] = map(homeaway, df['match'], [False for i in range(len(df))])"
   ]
  },
  {
   "cell_type": "code",
   "execution_count": 46,
   "metadata": {
    "collapsed": true
   },
   "outputs": [],
   "source": [
    "df['hometeam'] = map(getteams, df['home'])"
   ]
  },
  {
   "cell_type": "code",
   "execution_count": 47,
   "metadata": {
    "collapsed": false
   },
   "outputs": [],
   "source": [
    "df['awayteam'] = map(getteams, df['away'])"
   ]
  },
  {
   "cell_type": "code",
   "execution_count": 48,
   "metadata": {
    "collapsed": true
   },
   "outputs": [],
   "source": [
    "df.to_csv('iplfix.csv', index=False)"
   ]
  },
  {
   "cell_type": "code",
   "execution_count": null,
   "metadata": {
    "collapsed": true
   },
   "outputs": [],
   "source": []
  }
 ],
 "metadata": {
  "kernelspec": {
   "display_name": "Python 2",
   "language": "python",
   "name": "python2"
  },
  "language_info": {
   "codemirror_mode": {
    "name": "ipython",
    "version": 2
   },
   "file_extension": ".py",
   "mimetype": "text/x-python",
   "name": "python",
   "nbconvert_exporter": "python",
   "pygments_lexer": "ipython2",
   "version": "2.7.11"
  }
 },
 "nbformat": 4,
 "nbformat_minor": 0
}
